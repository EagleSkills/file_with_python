{
 "cells": [
  {
   "cell_type": "markdown",
   "id": "38ad8bac-f260-4d6f-a361-746a479e04ee",
   "metadata": {},
   "source": [
    "# Write a program that prompts for a file name, then opens that file and reads through the file, looking for lines of the form: X-DSPAM-Confidence:    0.8475    \n",
    "* Count these lines and extract the floating point values from each of the lines and compute the average of those values and produce an output as shown below. Do not use the sum() function or a variable named sum in your solution.\n",
    "*    You can download the sample data at http://www.py4e.com/code3/mbox-short.txt when you are testing below enter mbox-short.txt as the file name."
   ]
  },
  {
   "cell_type": "code",
   "execution_count": 36,
   "id": "d3107aa9",
   "metadata": {},
   "outputs": [
    {
     "name": "stdout",
     "output_type": "stream",
     "text": [
      "0.7507185185185187\n",
      "The Row's count is : 27 \n",
      "The total numbers is 20.269400000000005 \n",
      "The Average is 0.7507185185185187\n"
     ]
    }
   ],
   "source": [
    "# parameters count for count , lis as a list\n",
    "count = 0\n",
    "lis = []\n",
    "total = 0\n",
    "# open file\n",
    "with open('mbox-short.txt') as fhand:\n",
    "    # loop to read a lines\n",
    "    for line in fhand:\n",
    "        # to delete spaces\n",
    "        line = line.rstrip()\n",
    "        # filter to choose what should i need\n",
    "        if not line.startswith('X-DSPAM-Confidence:'): continue\n",
    "        # counter\n",
    "        count +=1\n",
    "        # print the numbers only\n",
    "        line1 = float(line[19:])\n",
    "        # to get total without using sum\n",
    "        total = total + line1\n",
    "        # store the numbers in list as float format\n",
    "        lis.append((line1))\n",
    "        # print(line.find(':'))\n",
    "# get average\n",
    "print(sum(lis)/count)    \n",
    "print(f\"The Row's count is : {count} \\nThe total numbers is {total} \\nThe Average is {total/count}\")\n",
    "            "
   ]
  },
  {
   "cell_type": "code",
   "execution_count": null,
   "id": "433b0c41",
   "metadata": {},
   "outputs": [],
   "source": []
  }
 ],
 "metadata": {
  "kernelspec": {
   "display_name": "Python 3 (ipykernel)",
   "language": "python",
   "name": "python3"
  },
  "language_info": {
   "codemirror_mode": {
    "name": "ipython",
    "version": 3
   },
   "file_extension": ".py",
   "mimetype": "text/x-python",
   "name": "python",
   "nbconvert_exporter": "python",
   "pygments_lexer": "ipython3",
   "version": "3.11.7"
  },
  "widgets": {
   "application/vnd.jupyter.widget-state+json": {
    "state": {},
    "version_major": 2,
    "version_minor": 0
   }
  }
 },
 "nbformat": 4,
 "nbformat_minor": 5
}
